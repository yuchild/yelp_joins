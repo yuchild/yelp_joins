{
 "cells": [
  {
   "cell_type": "code",
   "execution_count": 1,
   "metadata": {},
   "outputs": [
    {
     "name": "stderr",
     "output_type": "stream",
     "text": [
      "Using TensorFlow backend.\n"
     ]
    }
   ],
   "source": [
    "import json\n",
    "import pandas as pd\n",
    "import numpy as np\n",
    "import matplotlib.pyplot as plt\n",
    "%matplotlib inline\n",
    "plt.style.use('ggplot')\n",
    "\n",
    "from collections import Counter\n",
    "from string import punctuation\n",
    "\n",
    "from nltk.corpus import stopwords\n",
    "from nltk import word_tokenize\n",
    "import nltk\n",
    "#nltk.download('punkt')\n",
    "\n",
    "import warnings\n",
    "warnings.filterwarnings('ignore')\n",
    "\n",
    "from skimage.feature import hog\n",
    "from skimage.io import imread\n",
    "from skimage.transform import rescale\n",
    "\n",
    "from sklearn.linear_model import SGDClassifier\n",
    "\n",
    "from sklearn.model_selection import cross_val_predict, cross_val_score\n",
    "from sklearn.model_selection import KFold\n",
    "from sklearn import metrics\n",
    "\n",
    "from sklearn.preprocessing import StandardScaler, OneHotEncoder\n",
    "from sklearn.decomposition import PCA\n",
    "import skimage\n",
    "\n",
    "import matplotlib.pyplot as plt\n",
    "import numpy as np\n",
    "import cv2\n",
    "import os\n",
    "\n",
    "from keras.preprocessing.image import (load_img\n",
    "                                       , array_to_img\n",
    "                                       , img_to_array\n",
    "                                       , ImageDataGenerator)\n",
    "import keras"
   ]
  },
  {
   "cell_type": "code",
   "execution_count": 2,
   "metadata": {},
   "outputs": [],
   "source": [
    "file = open('photo.json', 'r')"
   ]
  },
  {
   "cell_type": "code",
   "execution_count": 3,
   "metadata": {},
   "outputs": [
    {
     "name": "stdout",
     "output_type": "stream",
     "text": [
      "0\n"
     ]
    }
   ],
   "source": [
    "stop = 200000\n",
    "all_data = []\n",
    "\n",
    "for i, line in enumerate(file):\n",
    "    if i%200000 == 0:\n",
    "        print(i)\n",
    "    if i == stop:\n",
    "        break\n",
    "    \n",
    "    data = json.loads(line)\n",
    "    \n",
    "    photo_id = data['photo_id']\n",
    "    buz_id = data['business_id']\n",
    "    caption = data['caption']\n",
    "    label = data['label']\n",
    "    \n",
    "    all_data.append([photo_id\n",
    "                     , buz_id\n",
    "                     , caption\n",
    "                     , label])\n",
    "    \n",
    "df_photos = pd.DataFrame(all_data, columns = ['photo_id'\n",
    "                                              , 'buz_id'\n",
    "                                              , 'caption'\n",
    "                                              , 'label'])\n",
    "\n",
    "file.close()"
   ]
  },
  {
   "cell_type": "code",
   "execution_count": 4,
   "metadata": {},
   "outputs": [],
   "source": [
    "file = open('business.json', 'r')"
   ]
  },
  {
   "cell_type": "code",
   "execution_count": 5,
   "metadata": {},
   "outputs": [
    {
     "name": "stdout",
     "output_type": "stream",
     "text": [
      "0\n"
     ]
    }
   ],
   "source": [
    "# open input file: \n",
    "file = open('business.json') \n",
    "\n",
    "# read the first 10k entries\n",
    "# set to -1 to process everything\n",
    "stop = 192609\n",
    "\n",
    "all_data = list()\n",
    "for i, line in enumerate(file):\n",
    "    if i%192609==0:\n",
    "        print(i)\n",
    "    if i==stop:\n",
    "        break    \n",
    "    # convert the json on this line to a dict\n",
    "    data = json.loads(line)\n",
    "    # extract what we want\n",
    "    \n",
    "    buz_id = data['business_id']\n",
    "    names = data['name']\n",
    "    reviews = data['review_count']\n",
    "    stars = data['stars']\n",
    "    state = data['state']\n",
    "    \n",
    "    # add to the data collected so far\n",
    "    all_data.append([buz_id\n",
    "                     , names\n",
    "                     , reviews\n",
    "                     , stars\n",
    "                     , state])\n",
    "    \n",
    "# create the DataFrame\n",
    "df_businesses = pd.DataFrame(all_data, columns=['buz_id'\n",
    "                                                , 'name'\n",
    "                                                , 'review_count'\n",
    "                                                , 'stars'\n",
    "                                                , 'state'])\n",
    "\n",
    "file.close()"
   ]
  },
  {
   "cell_type": "code",
   "execution_count": 6,
   "metadata": {},
   "outputs": [],
   "source": [
    "df = pd.merge(df_photos, df_businesses, on='buz_id')"
   ]
  },
  {
   "cell_type": "code",
   "execution_count": 7,
   "metadata": {},
   "outputs": [
    {
     "name": "stdout",
     "output_type": "stream",
     "text": [
      "<class 'pandas.core.frame.DataFrame'>\n",
      "Int64Index: 200000 entries, 0 to 199999\n",
      "Data columns (total 8 columns):\n",
      "photo_id        200000 non-null object\n",
      "buz_id          200000 non-null object\n",
      "caption         200000 non-null object\n",
      "label           200000 non-null object\n",
      "name            200000 non-null object\n",
      "review_count    200000 non-null int64\n",
      "stars           200000 non-null float64\n",
      "state           200000 non-null object\n",
      "dtypes: float64(1), int64(1), object(6)\n",
      "memory usage: 13.7+ MB\n"
     ]
    }
   ],
   "source": [
    "df.info()"
   ]
  },
  {
   "cell_type": "code",
   "execution_count": 8,
   "metadata": {},
   "outputs": [
    {
     "data": {
      "text/html": [
       "<div>\n",
       "<style scoped>\n",
       "    .dataframe tbody tr th:only-of-type {\n",
       "        vertical-align: middle;\n",
       "    }\n",
       "\n",
       "    .dataframe tbody tr th {\n",
       "        vertical-align: top;\n",
       "    }\n",
       "\n",
       "    .dataframe thead th {\n",
       "        text-align: right;\n",
       "    }\n",
       "</style>\n",
       "<table border=\"1\" class=\"dataframe\">\n",
       "  <thead>\n",
       "    <tr style=\"text-align: right;\">\n",
       "      <th></th>\n",
       "      <th>photo_id</th>\n",
       "      <th>buz_id</th>\n",
       "      <th>caption</th>\n",
       "      <th>label</th>\n",
       "      <th>name</th>\n",
       "      <th>review_count</th>\n",
       "      <th>stars</th>\n",
       "      <th>state</th>\n",
       "    </tr>\n",
       "  </thead>\n",
       "  <tbody>\n",
       "    <tr>\n",
       "      <td>0</td>\n",
       "      <td>MllA1nNpcp1kDteVg6OGUw</td>\n",
       "      <td>rcaPajgKOJC2vo_l3xa42A</td>\n",
       "      <td></td>\n",
       "      <td>inside</td>\n",
       "      <td>Bouchon</td>\n",
       "      <td>3859</td>\n",
       "      <td>4.0</td>\n",
       "      <td>NV</td>\n",
       "    </tr>\n",
       "  </tbody>\n",
       "</table>\n",
       "</div>"
      ],
      "text/plain": [
       "                 photo_id                  buz_id caption   label     name  \\\n",
       "0  MllA1nNpcp1kDteVg6OGUw  rcaPajgKOJC2vo_l3xa42A          inside  Bouchon   \n",
       "\n",
       "   review_count  stars state  \n",
       "0          3859    4.0    NV  "
      ]
     },
     "execution_count": 8,
     "metadata": {},
     "output_type": "execute_result"
    }
   ],
   "source": [
    "df.head(1)"
   ]
  },
  {
   "cell_type": "code",
   "execution_count": 9,
   "metadata": {},
   "outputs": [],
   "source": [
    "df_stars = pd.DataFrame(df.stars.value_counts())"
   ]
  },
  {
   "cell_type": "code",
   "execution_count": 10,
   "metadata": {},
   "outputs": [
    {
     "data": {
      "text/html": [
       "<div>\n",
       "<style scoped>\n",
       "    .dataframe tbody tr th:only-of-type {\n",
       "        vertical-align: middle;\n",
       "    }\n",
       "\n",
       "    .dataframe tbody tr th {\n",
       "        vertical-align: top;\n",
       "    }\n",
       "\n",
       "    .dataframe thead th {\n",
       "        text-align: right;\n",
       "    }\n",
       "</style>\n",
       "<table border=\"1\" class=\"dataframe\">\n",
       "  <thead>\n",
       "    <tr style=\"text-align: right;\">\n",
       "      <th></th>\n",
       "      <th>stars</th>\n",
       "    </tr>\n",
       "  </thead>\n",
       "  <tbody>\n",
       "    <tr>\n",
       "      <td>4.0</td>\n",
       "      <td>67475</td>\n",
       "    </tr>\n",
       "    <tr>\n",
       "      <td>3.5</td>\n",
       "      <td>46303</td>\n",
       "    </tr>\n",
       "    <tr>\n",
       "      <td>4.5</td>\n",
       "      <td>36668</td>\n",
       "    </tr>\n",
       "    <tr>\n",
       "      <td>3.0</td>\n",
       "      <td>24888</td>\n",
       "    </tr>\n",
       "    <tr>\n",
       "      <td>2.5</td>\n",
       "      <td>11118</td>\n",
       "    </tr>\n",
       "    <tr>\n",
       "      <td>2.0</td>\n",
       "      <td>6421</td>\n",
       "    </tr>\n",
       "    <tr>\n",
       "      <td>5.0</td>\n",
       "      <td>3163</td>\n",
       "    </tr>\n",
       "    <tr>\n",
       "      <td>1.5</td>\n",
       "      <td>3045</td>\n",
       "    </tr>\n",
       "    <tr>\n",
       "      <td>1.0</td>\n",
       "      <td>919</td>\n",
       "    </tr>\n",
       "  </tbody>\n",
       "</table>\n",
       "</div>"
      ],
      "text/plain": [
       "     stars\n",
       "4.0  67475\n",
       "3.5  46303\n",
       "4.5  36668\n",
       "3.0  24888\n",
       "2.5  11118\n",
       "2.0   6421\n",
       "5.0   3163\n",
       "1.5   3045\n",
       "1.0    919"
      ]
     },
     "execution_count": 10,
     "metadata": {},
     "output_type": "execute_result"
    }
   ],
   "source": [
    "df_stars"
   ]
  },
  {
   "cell_type": "code",
   "execution_count": 11,
   "metadata": {},
   "outputs": [
    {
     "data": {
      "image/png": "[encoded data removed]",
      "text/plain": [
       "<Figure size 432x288 with 1 Axes>"
      ]
     },
     "metadata": {
      "needs_background": "light"
     },
     "output_type": "display_data"
    }
   ],
   "source": [
    "width=0.4\n",
    "plt.bar(df_stars.index, df_stars.stars, width, color='salmon')\n",
    "plt.xlabel('Stars')\n",
    "plt.ylabel('Frequency')\n",
    "plt.title('Star Counts with Photos')\n",
    "plt.savefig('photo_ctn_with_photos.png');"
   ]
  },
  {
   "cell_type": "code",
   "execution_count": 12,
   "metadata": {},
   "outputs": [],
   "source": [
    "df_state = pd.DataFrame(df.state.value_counts())"
   ]
  },
  {
   "cell_type": "code",
   "execution_count": 13,
   "metadata": {},
   "outputs": [
    {
     "data": {
      "text/html": [
       "<div>\n",
       "<style scoped>\n",
       "    .dataframe tbody tr th:only-of-type {\n",
       "        vertical-align: middle;\n",
       "    }\n",
       "\n",
       "    .dataframe tbody tr th {\n",
       "        vertical-align: top;\n",
       "    }\n",
       "\n",
       "    .dataframe thead th {\n",
       "        text-align: right;\n",
       "    }\n",
       "</style>\n",
       "<table border=\"1\" class=\"dataframe\">\n",
       "  <thead>\n",
       "    <tr style=\"text-align: right;\">\n",
       "      <th></th>\n",
       "      <th>state</th>\n",
       "    </tr>\n",
       "  </thead>\n",
       "  <tbody>\n",
       "    <tr>\n",
       "      <td>NV</td>\n",
       "      <td>62837</td>\n",
       "    </tr>\n",
       "    <tr>\n",
       "      <td>ON</td>\n",
       "      <td>42719</td>\n",
       "    </tr>\n",
       "    <tr>\n",
       "      <td>AZ</td>\n",
       "      <td>39826</td>\n",
       "    </tr>\n",
       "    <tr>\n",
       "      <td>NC</td>\n",
       "      <td>12315</td>\n",
       "    </tr>\n",
       "    <tr>\n",
       "      <td>QC</td>\n",
       "      <td>12002</td>\n",
       "    </tr>\n",
       "    <tr>\n",
       "      <td>OH</td>\n",
       "      <td>11423</td>\n",
       "    </tr>\n",
       "    <tr>\n",
       "      <td>PA</td>\n",
       "      <td>8384</td>\n",
       "    </tr>\n",
       "    <tr>\n",
       "      <td>AB</td>\n",
       "      <td>5144</td>\n",
       "    </tr>\n",
       "    <tr>\n",
       "      <td>WI</td>\n",
       "      <td>3480</td>\n",
       "    </tr>\n",
       "    <tr>\n",
       "      <td>IL</td>\n",
       "      <td>1083</td>\n",
       "    </tr>\n",
       "    <tr>\n",
       "      <td>SC</td>\n",
       "      <td>739</td>\n",
       "    </tr>\n",
       "    <tr>\n",
       "      <td>NY</td>\n",
       "      <td>15</td>\n",
       "    </tr>\n",
       "    <tr>\n",
       "      <td>TX</td>\n",
       "      <td>15</td>\n",
       "    </tr>\n",
       "    <tr>\n",
       "      <td>AR</td>\n",
       "      <td>13</td>\n",
       "    </tr>\n",
       "    <tr>\n",
       "      <td>VA</td>\n",
       "      <td>3</td>\n",
       "    </tr>\n",
       "    <tr>\n",
       "      <td>FL</td>\n",
       "      <td>2</td>\n",
       "    </tr>\n",
       "  </tbody>\n",
       "</table>\n",
       "</div>"
      ],
      "text/plain": [
       "    state\n",
       "NV  62837\n",
       "ON  42719\n",
       "AZ  39826\n",
       "NC  12315\n",
       "QC  12002\n",
       "OH  11423\n",
       "PA   8384\n",
       "AB   5144\n",
       "WI   3480\n",
       "IL   1083\n",
       "SC    739\n",
       "NY     15\n",
       "TX     15\n",
       "AR     13\n",
       "VA      3\n",
       "FL      2"
      ]
     },
     "execution_count": 13,
     "metadata": {},
     "output_type": "execute_result"
    }
   ],
   "source": [
    "df_state"
   ]
  },
  {
   "cell_type": "code",
   "execution_count": 14,
   "metadata": {
    "scrolled": true
   },
   "outputs": [
    {
     "data": {
      "image/png": "[encoded data removed]",
      "text/plain": [
       "<Figure size 432x288 with 1 Axes>"
      ]
     },
     "metadata": {
      "needs_background": "light"
     },
     "output_type": "display_data"
    }
   ],
   "source": [
    "plt.bar(df_state.index, df_state.state, color='salmon')\n",
    "plt.xlabel('States')\n",
    "plt.ylabel('Frequency')\n",
    "plt.title('Photo Count by State')\n",
    "plt.savefig('photo_ctn_by_state.png');"
   ]
  },
  {
   "cell_type": "code",
   "execution_count": 15,
   "metadata": {},
   "outputs": [
    {
     "data": {
      "text/plain": [
       "stars\n",
       "1.0      919\n",
       "1.5     3045\n",
       "2.0     6421\n",
       "2.5    11118\n",
       "3.0    24888\n",
       "3.5    46303\n",
       "4.0    67475\n",
       "4.5    36668\n",
       "5.0     3163\n",
       "Name: state, dtype: int64"
      ]
     },
     "execution_count": 15,
     "metadata": {},
     "output_type": "execute_result"
    }
   ],
   "source": [
    "df.groupby('stars')['state'].count()"
   ]
  },
  {
   "cell_type": "code",
   "execution_count": 16,
   "metadata": {
    "scrolled": true
   },
   "outputs": [],
   "source": [
    "df_star_inside = pd.DataFrame(df.stars.loc[df.label == 'inside'].value_counts())"
   ]
  },
  {
   "cell_type": "code",
   "execution_count": 17,
   "metadata": {},
   "outputs": [],
   "source": [
    "df_star_inside.rename(columns={'stars': 'inside'}, inplace=True)"
   ]
  },
  {
   "cell_type": "code",
   "execution_count": 18,
   "metadata": {},
   "outputs": [
    {
     "data": {
      "text/html": [
       "<div>\n",
       "<style scoped>\n",
       "    .dataframe tbody tr th:only-of-type {\n",
       "        vertical-align: middle;\n",
       "    }\n",
       "\n",
       "    .dataframe tbody tr th {\n",
       "        vertical-align: top;\n",
       "    }\n",
       "\n",
       "    .dataframe thead th {\n",
       "        text-align: right;\n",
       "    }\n",
       "</style>\n",
       "<table border=\"1\" class=\"dataframe\">\n",
       "  <thead>\n",
       "    <tr style=\"text-align: right;\">\n",
       "      <th></th>\n",
       "      <th>inside</th>\n",
       "    </tr>\n",
       "  </thead>\n",
       "  <tbody>\n",
       "    <tr>\n",
       "      <td>4.0</td>\n",
       "      <td>19314</td>\n",
       "    </tr>\n",
       "    <tr>\n",
       "      <td>3.5</td>\n",
       "      <td>12922</td>\n",
       "    </tr>\n",
       "    <tr>\n",
       "      <td>4.5</td>\n",
       "      <td>10549</td>\n",
       "    </tr>\n",
       "    <tr>\n",
       "      <td>3.0</td>\n",
       "      <td>6060</td>\n",
       "    </tr>\n",
       "    <tr>\n",
       "      <td>2.5</td>\n",
       "      <td>2007</td>\n",
       "    </tr>\n",
       "    <tr>\n",
       "      <td>5.0</td>\n",
       "      <td>961</td>\n",
       "    </tr>\n",
       "    <tr>\n",
       "      <td>2.0</td>\n",
       "      <td>511</td>\n",
       "    </tr>\n",
       "    <tr>\n",
       "      <td>1.5</td>\n",
       "      <td>103</td>\n",
       "    </tr>\n",
       "    <tr>\n",
       "      <td>1.0</td>\n",
       "      <td>21</td>\n",
       "    </tr>\n",
       "  </tbody>\n",
       "</table>\n",
       "</div>"
      ],
      "text/plain": [
       "     inside\n",
       "4.0   19314\n",
       "3.5   12922\n",
       "4.5   10549\n",
       "3.0    6060\n",
       "2.5    2007\n",
       "5.0     961\n",
       "2.0     511\n",
       "1.5     103\n",
       "1.0      21"
      ]
     },
     "execution_count": 18,
     "metadata": {},
     "output_type": "execute_result"
    }
   ],
   "source": [
    "df_star_inside"
   ]
  },
  {
   "cell_type": "code",
   "execution_count": 19,
   "metadata": {},
   "outputs": [],
   "source": [
    "df_star_food = pd.DataFrame(df.stars.loc[df.label == 'food'].value_counts())"
   ]
  },
  {
   "cell_type": "code",
   "execution_count": 20,
   "metadata": {},
   "outputs": [],
   "source": [
    "df_star_food.rename(columns={'stars': 'food'}, inplace=True)"
   ]
  },
  {
   "cell_type": "code",
   "execution_count": 21,
   "metadata": {},
   "outputs": [
    {
     "data": {
      "text/html": [
       "<div>\n",
       "<style scoped>\n",
       "    .dataframe tbody tr th:only-of-type {\n",
       "        vertical-align: middle;\n",
       "    }\n",
       "\n",
       "    .dataframe tbody tr th {\n",
       "        vertical-align: top;\n",
       "    }\n",
       "\n",
       "    .dataframe thead th {\n",
       "        text-align: right;\n",
       "    }\n",
       "</style>\n",
       "<table border=\"1\" class=\"dataframe\">\n",
       "  <thead>\n",
       "    <tr style=\"text-align: right;\">\n",
       "      <th></th>\n",
       "      <th>food</th>\n",
       "    </tr>\n",
       "  </thead>\n",
       "  <tbody>\n",
       "    <tr>\n",
       "      <td>4.0</td>\n",
       "      <td>36535</td>\n",
       "    </tr>\n",
       "    <tr>\n",
       "      <td>3.5</td>\n",
       "      <td>25468</td>\n",
       "    </tr>\n",
       "    <tr>\n",
       "      <td>4.5</td>\n",
       "      <td>20106</td>\n",
       "    </tr>\n",
       "    <tr>\n",
       "      <td>3.0</td>\n",
       "      <td>14819</td>\n",
       "    </tr>\n",
       "    <tr>\n",
       "      <td>2.5</td>\n",
       "      <td>7593</td>\n",
       "    </tr>\n",
       "    <tr>\n",
       "      <td>2.0</td>\n",
       "      <td>5226</td>\n",
       "    </tr>\n",
       "    <tr>\n",
       "      <td>1.5</td>\n",
       "      <td>2670</td>\n",
       "    </tr>\n",
       "    <tr>\n",
       "      <td>5.0</td>\n",
       "      <td>1637</td>\n",
       "    </tr>\n",
       "    <tr>\n",
       "      <td>1.0</td>\n",
       "      <td>820</td>\n",
       "    </tr>\n",
       "  </tbody>\n",
       "</table>\n",
       "</div>"
      ],
      "text/plain": [
       "      food\n",
       "4.0  36535\n",
       "3.5  25468\n",
       "4.5  20106\n",
       "3.0  14819\n",
       "2.5   7593\n",
       "2.0   5226\n",
       "1.5   2670\n",
       "5.0   1637\n",
       "1.0    820"
      ]
     },
     "execution_count": 21,
     "metadata": {},
     "output_type": "execute_result"
    }
   ],
   "source": [
    "df_star_food"
   ]
  },
  {
   "cell_type": "code",
   "execution_count": 22,
   "metadata": {},
   "outputs": [],
   "source": [
    "df_star_menu =  pd.DataFrame(df.stars.loc[df.label == 'menu'].value_counts())"
   ]
  },
  {
   "cell_type": "code",
   "execution_count": 23,
   "metadata": {},
   "outputs": [],
   "source": [
    "df_star_menu.rename(columns={'stars': 'menu'}, inplace=True)"
   ]
  },
  {
   "cell_type": "code",
   "execution_count": 24,
   "metadata": {},
   "outputs": [
    {
     "data": {
      "text/html": [
       "<div>\n",
       "<style scoped>\n",
       "    .dataframe tbody tr th:only-of-type {\n",
       "        vertical-align: middle;\n",
       "    }\n",
       "\n",
       "    .dataframe tbody tr th {\n",
       "        vertical-align: top;\n",
       "    }\n",
       "\n",
       "    .dataframe thead th {\n",
       "        text-align: right;\n",
       "    }\n",
       "</style>\n",
       "<table border=\"1\" class=\"dataframe\">\n",
       "  <thead>\n",
       "    <tr style=\"text-align: right;\">\n",
       "      <th></th>\n",
       "      <th>menu</th>\n",
       "    </tr>\n",
       "  </thead>\n",
       "  <tbody>\n",
       "    <tr>\n",
       "      <td>4.0</td>\n",
       "      <td>1039</td>\n",
       "    </tr>\n",
       "    <tr>\n",
       "      <td>3.5</td>\n",
       "      <td>696</td>\n",
       "    </tr>\n",
       "    <tr>\n",
       "      <td>4.5</td>\n",
       "      <td>655</td>\n",
       "    </tr>\n",
       "    <tr>\n",
       "      <td>3.0</td>\n",
       "      <td>419</td>\n",
       "    </tr>\n",
       "    <tr>\n",
       "      <td>2.5</td>\n",
       "      <td>120</td>\n",
       "    </tr>\n",
       "    <tr>\n",
       "      <td>5.0</td>\n",
       "      <td>55</td>\n",
       "    </tr>\n",
       "    <tr>\n",
       "      <td>2.0</td>\n",
       "      <td>34</td>\n",
       "    </tr>\n",
       "    <tr>\n",
       "      <td>1.5</td>\n",
       "      <td>4</td>\n",
       "    </tr>\n",
       "    <tr>\n",
       "      <td>1.0</td>\n",
       "      <td>1</td>\n",
       "    </tr>\n",
       "  </tbody>\n",
       "</table>\n",
       "</div>"
      ],
      "text/plain": [
       "     menu\n",
       "4.0  1039\n",
       "3.5   696\n",
       "4.5   655\n",
       "3.0   419\n",
       "2.5   120\n",
       "5.0    55\n",
       "2.0    34\n",
       "1.5     4\n",
       "1.0     1"
      ]
     },
     "execution_count": 24,
     "metadata": {},
     "output_type": "execute_result"
    }
   ],
   "source": [
    "df_star_menu"
   ]
  },
  {
   "cell_type": "code",
   "execution_count": 25,
   "metadata": {},
   "outputs": [],
   "source": [
    "df_star_drink = pd.DataFrame(df.stars.loc[df.label == 'drink'].value_counts())"
   ]
  },
  {
   "cell_type": "code",
   "execution_count": 26,
   "metadata": {},
   "outputs": [],
   "source": [
    "df_star_drink.rename(columns={'stars': 'drink'}, inplace=True)"
   ]
  },
  {
   "cell_type": "code",
   "execution_count": 27,
   "metadata": {},
   "outputs": [
    {
     "data": {
      "text/html": [
       "<div>\n",
       "<style scoped>\n",
       "    .dataframe tbody tr th:only-of-type {\n",
       "        vertical-align: middle;\n",
       "    }\n",
       "\n",
       "    .dataframe tbody tr th {\n",
       "        vertical-align: top;\n",
       "    }\n",
       "\n",
       "    .dataframe thead th {\n",
       "        text-align: right;\n",
       "    }\n",
       "</style>\n",
       "<table border=\"1\" class=\"dataframe\">\n",
       "  <thead>\n",
       "    <tr style=\"text-align: right;\">\n",
       "      <th></th>\n",
       "      <th>drink</th>\n",
       "    </tr>\n",
       "  </thead>\n",
       "  <tbody>\n",
       "    <tr>\n",
       "      <td>4.0</td>\n",
       "      <td>6448</td>\n",
       "    </tr>\n",
       "    <tr>\n",
       "      <td>3.5</td>\n",
       "      <td>4197</td>\n",
       "    </tr>\n",
       "    <tr>\n",
       "      <td>4.5</td>\n",
       "      <td>3531</td>\n",
       "    </tr>\n",
       "    <tr>\n",
       "      <td>3.0</td>\n",
       "      <td>2093</td>\n",
       "    </tr>\n",
       "    <tr>\n",
       "      <td>2.5</td>\n",
       "      <td>869</td>\n",
       "    </tr>\n",
       "    <tr>\n",
       "      <td>2.0</td>\n",
       "      <td>420</td>\n",
       "    </tr>\n",
       "    <tr>\n",
       "      <td>5.0</td>\n",
       "      <td>297</td>\n",
       "    </tr>\n",
       "    <tr>\n",
       "      <td>1.5</td>\n",
       "      <td>202</td>\n",
       "    </tr>\n",
       "    <tr>\n",
       "      <td>1.0</td>\n",
       "      <td>64</td>\n",
       "    </tr>\n",
       "  </tbody>\n",
       "</table>\n",
       "</div>"
      ],
      "text/plain": [
       "     drink\n",
       "4.0   6448\n",
       "3.5   4197\n",
       "4.5   3531\n",
       "3.0   2093\n",
       "2.5    869\n",
       "2.0    420\n",
       "5.0    297\n",
       "1.5    202\n",
       "1.0     64"
      ]
     },
     "execution_count": 27,
     "metadata": {},
     "output_type": "execute_result"
    }
   ],
   "source": [
    "df_star_drink"
   ]
  },
  {
   "cell_type": "code",
   "execution_count": 28,
   "metadata": {},
   "outputs": [],
   "source": [
    "df_star_outside = pd.DataFrame(df.stars.loc[df.label == 'outside'].value_counts())"
   ]
  },
  {
   "cell_type": "code",
   "execution_count": 29,
   "metadata": {},
   "outputs": [],
   "source": [
    "df_star_outside.rename(columns={'stars': 'outside'}, inplace=True)"
   ]
  },
  {
   "cell_type": "code",
   "execution_count": 30,
   "metadata": {},
   "outputs": [
    {
     "data": {
      "text/html": [
       "<div>\n",
       "<style scoped>\n",
       "    .dataframe tbody tr th:only-of-type {\n",
       "        vertical-align: middle;\n",
       "    }\n",
       "\n",
       "    .dataframe tbody tr th {\n",
       "        vertical-align: top;\n",
       "    }\n",
       "\n",
       "    .dataframe thead th {\n",
       "        text-align: right;\n",
       "    }\n",
       "</style>\n",
       "<table border=\"1\" class=\"dataframe\">\n",
       "  <thead>\n",
       "    <tr style=\"text-align: right;\">\n",
       "      <th></th>\n",
       "      <th>outside</th>\n",
       "    </tr>\n",
       "  </thead>\n",
       "  <tbody>\n",
       "    <tr>\n",
       "      <td>4.0</td>\n",
       "      <td>4139</td>\n",
       "    </tr>\n",
       "    <tr>\n",
       "      <td>3.5</td>\n",
       "      <td>3020</td>\n",
       "    </tr>\n",
       "    <tr>\n",
       "      <td>4.5</td>\n",
       "      <td>1827</td>\n",
       "    </tr>\n",
       "    <tr>\n",
       "      <td>3.0</td>\n",
       "      <td>1497</td>\n",
       "    </tr>\n",
       "    <tr>\n",
       "      <td>2.5</td>\n",
       "      <td>529</td>\n",
       "    </tr>\n",
       "    <tr>\n",
       "      <td>2.0</td>\n",
       "      <td>230</td>\n",
       "    </tr>\n",
       "    <tr>\n",
       "      <td>5.0</td>\n",
       "      <td>213</td>\n",
       "    </tr>\n",
       "    <tr>\n",
       "      <td>1.5</td>\n",
       "      <td>66</td>\n",
       "    </tr>\n",
       "    <tr>\n",
       "      <td>1.0</td>\n",
       "      <td>13</td>\n",
       "    </tr>\n",
       "  </tbody>\n",
       "</table>\n",
       "</div>"
      ],
      "text/plain": [
       "     outside\n",
       "4.0     4139\n",
       "3.5     3020\n",
       "4.5     1827\n",
       "3.0     1497\n",
       "2.5      529\n",
       "2.0      230\n",
       "5.0      213\n",
       "1.5       66\n",
       "1.0       13"
      ]
     },
     "execution_count": 30,
     "metadata": {},
     "output_type": "execute_result"
    }
   ],
   "source": [
    "df_star_outside"
   ]
  },
  {
   "cell_type": "code",
   "execution_count": 31,
   "metadata": {},
   "outputs": [],
   "source": [
    "df_stars = [df_star_inside\n",
    "              , df_star_outside\n",
    "              , df_star_food\n",
    "              , df_star_menu\n",
    "              , df_star_drink]"
   ]
  },
  {
   "cell_type": "code",
   "execution_count": 32,
   "metadata": {},
   "outputs": [],
   "source": [
    "df_star_all = pd.concat(df_stars, axis=1)"
   ]
  },
  {
   "cell_type": "code",
   "execution_count": 33,
   "metadata": {},
   "outputs": [
    {
     "data": {
      "text/html": [
       "<div>\n",
       "<style scoped>\n",
       "    .dataframe tbody tr th:only-of-type {\n",
       "        vertical-align: middle;\n",
       "    }\n",
       "\n",
       "    .dataframe tbody tr th {\n",
       "        vertical-align: top;\n",
       "    }\n",
       "\n",
       "    .dataframe thead th {\n",
       "        text-align: right;\n",
       "    }\n",
       "</style>\n",
       "<table border=\"1\" class=\"dataframe\">\n",
       "  <thead>\n",
       "    <tr style=\"text-align: right;\">\n",
       "      <th></th>\n",
       "      <th>inside</th>\n",
       "      <th>outside</th>\n",
       "      <th>food</th>\n",
       "      <th>menu</th>\n",
       "      <th>drink</th>\n",
       "    </tr>\n",
       "  </thead>\n",
       "  <tbody>\n",
       "    <tr>\n",
       "      <td>1.0</td>\n",
       "      <td>21</td>\n",
       "      <td>13</td>\n",
       "      <td>820</td>\n",
       "      <td>1</td>\n",
       "      <td>64</td>\n",
       "    </tr>\n",
       "    <tr>\n",
       "      <td>1.5</td>\n",
       "      <td>103</td>\n",
       "      <td>66</td>\n",
       "      <td>2670</td>\n",
       "      <td>4</td>\n",
       "      <td>202</td>\n",
       "    </tr>\n",
       "    <tr>\n",
       "      <td>2.0</td>\n",
       "      <td>511</td>\n",
       "      <td>230</td>\n",
       "      <td>5226</td>\n",
       "      <td>34</td>\n",
       "      <td>420</td>\n",
       "    </tr>\n",
       "    <tr>\n",
       "      <td>2.5</td>\n",
       "      <td>2007</td>\n",
       "      <td>529</td>\n",
       "      <td>7593</td>\n",
       "      <td>120</td>\n",
       "      <td>869</td>\n",
       "    </tr>\n",
       "    <tr>\n",
       "      <td>3.0</td>\n",
       "      <td>6060</td>\n",
       "      <td>1497</td>\n",
       "      <td>14819</td>\n",
       "      <td>419</td>\n",
       "      <td>2093</td>\n",
       "    </tr>\n",
       "    <tr>\n",
       "      <td>3.5</td>\n",
       "      <td>12922</td>\n",
       "      <td>3020</td>\n",
       "      <td>25468</td>\n",
       "      <td>696</td>\n",
       "      <td>4197</td>\n",
       "    </tr>\n",
       "    <tr>\n",
       "      <td>4.0</td>\n",
       "      <td>19314</td>\n",
       "      <td>4139</td>\n",
       "      <td>36535</td>\n",
       "      <td>1039</td>\n",
       "      <td>6448</td>\n",
       "    </tr>\n",
       "    <tr>\n",
       "      <td>4.5</td>\n",
       "      <td>10549</td>\n",
       "      <td>1827</td>\n",
       "      <td>20106</td>\n",
       "      <td>655</td>\n",
       "      <td>3531</td>\n",
       "    </tr>\n",
       "    <tr>\n",
       "      <td>5.0</td>\n",
       "      <td>961</td>\n",
       "      <td>213</td>\n",
       "      <td>1637</td>\n",
       "      <td>55</td>\n",
       "      <td>297</td>\n",
       "    </tr>\n",
       "  </tbody>\n",
       "</table>\n",
       "</div>"
      ],
      "text/plain": [
       "     inside  outside   food  menu  drink\n",
       "1.0      21       13    820     1     64\n",
       "1.5     103       66   2670     4    202\n",
       "2.0     511      230   5226    34    420\n",
       "2.5    2007      529   7593   120    869\n",
       "3.0    6060     1497  14819   419   2093\n",
       "3.5   12922     3020  25468   696   4197\n",
       "4.0   19314     4139  36535  1039   6448\n",
       "4.5   10549     1827  20106   655   3531\n",
       "5.0     961      213   1637    55    297"
      ]
     },
     "execution_count": 33,
     "metadata": {},
     "output_type": "execute_result"
    }
   ],
   "source": [
    "df_star_all"
   ]
  },
  {
   "cell_type": "code",
   "execution_count": 62,
   "metadata": {},
   "outputs": [
    {
     "data": {
      "image/png": "[encoded data removed]",
      "text/plain": [
       "<Figure size 432x288 with 1 Axes>"
      ]
     },
     "metadata": {
      "needs_background": "light"
     },
     "output_type": "display_data"
    }
   ],
   "source": [
    "N = 9\n",
    "ind = np.arange(N)\n",
    "width = 0.4\n",
    "plt.bar(ind \n",
    "        , df_star_all.inside\n",
    "        , width\n",
    "        , label='inside')\n",
    "plt.bar(ind + 1 * width\n",
    "        , df_star_all.food\n",
    "        , width\n",
    "        , label='food')\n",
    "plt.xticks(ind + width/2, (1, 1.5, 2, 2.5, 3, 3.5, 4, 4.5, 5))\n",
    "plt.xlabel('Rating')\n",
    "plt.ylabel('Frequency')\n",
    "plt.legend(loc='upper right')\n",
    "plt.title('Photo Major Categories')\n",
    "plt.savefig('photo_ctn_major_cat.png')\n",
    "plt.show();"
   ]
  },
  {
   "cell_type": "code",
   "execution_count": 63,
   "metadata": {},
   "outputs": [
    {
     "data": {
      "image/png": "[encoded data removed]",
      "text/plain": [
       "<Figure size 432x288 with 1 Axes>"
      ]
     },
     "metadata": {
      "needs_background": "light"
     },
     "output_type": "display_data"
    }
   ],
   "source": [
    "N = 9\n",
    "ind = np.arange(N)\n",
    "width = 0.3\n",
    "plt.bar(ind - 1 * width \n",
    "        , df_star_all.outside\n",
    "        , width\n",
    "        , label='outisde'\n",
    "        , color='cyan')\n",
    "plt.bar(ind + 0 * width\n",
    "        , df_star_all.menu\n",
    "        , width\n",
    "        , label='menu'\n",
    "        , color='purple')\n",
    "plt.bar(ind + 1 * width\n",
    "        , df_star_all.drink\n",
    "        , width\n",
    "        , label='drink'\n",
    "        , color='salmon')\n",
    "plt.xticks(ind + width/3, (1, 1.5, 2, 2.5, 3, 3.5, 4, 4.5, 5))\n",
    "plt.xlabel('Stars')\n",
    "plt.ylabel('Frequency')\n",
    "plt.legend(loc='upper right')\n",
    "plt.title('Photo Minor Categories')\n",
    "plt.savefig('Photo_ctn_minor_cat.png')\n",
    "plt.show();"
   ]
  },
  {
   "cell_type": "code",
   "execution_count": 36,
   "metadata": {},
   "outputs": [
    {
     "data": {
      "text/html": [
       "<div>\n",
       "<style scoped>\n",
       "    .dataframe tbody tr th:only-of-type {\n",
       "        vertical-align: middle;\n",
       "    }\n",
       "\n",
       "    .dataframe tbody tr th {\n",
       "        vertical-align: top;\n",
       "    }\n",
       "\n",
       "    .dataframe thead th {\n",
       "        text-align: right;\n",
       "    }\n",
       "</style>\n",
       "<table border=\"1\" class=\"dataframe\">\n",
       "  <thead>\n",
       "    <tr style=\"text-align: right;\">\n",
       "      <th></th>\n",
       "      <th>photo_id</th>\n",
       "      <th>buz_id</th>\n",
       "      <th>caption</th>\n",
       "      <th>label</th>\n",
       "      <th>name</th>\n",
       "      <th>review_count</th>\n",
       "      <th>stars</th>\n",
       "      <th>state</th>\n",
       "    </tr>\n",
       "  </thead>\n",
       "  <tbody>\n",
       "    <tr>\n",
       "      <td>0</td>\n",
       "      <td>MllA1nNpcp1kDteVg6OGUw</td>\n",
       "      <td>rcaPajgKOJC2vo_l3xa42A</td>\n",
       "      <td></td>\n",
       "      <td>inside</td>\n",
       "      <td>Bouchon</td>\n",
       "      <td>3859</td>\n",
       "      <td>4.0</td>\n",
       "      <td>NV</td>\n",
       "    </tr>\n",
       "  </tbody>\n",
       "</table>\n",
       "</div>"
      ],
      "text/plain": [
       "                 photo_id                  buz_id caption   label     name  \\\n",
       "0  MllA1nNpcp1kDteVg6OGUw  rcaPajgKOJC2vo_l3xa42A          inside  Bouchon   \n",
       "\n",
       "   review_count  stars state  \n",
       "0          3859    4.0    NV  "
      ]
     },
     "execution_count": 36,
     "metadata": {},
     "output_type": "execute_result"
    }
   ],
   "source": [
    "df.head(1)"
   ]
  },
  {
   "cell_type": "code",
   "execution_count": 37,
   "metadata": {},
   "outputs": [],
   "source": [
    "df_sort_review_ctn = df.sort_values(by=['review_count'],ascending=False)"
   ]
  },
  {
   "cell_type": "code",
   "execution_count": 38,
   "metadata": {},
   "outputs": [
    {
     "data": {
      "text/plain": [
       "McDonald's                            6948\n",
       "Filiberto's Mexican Food              1386\n",
       "Chipotle Mexican Grill                1056\n",
       "Symposium Cafe Restaurant & Lounge     824\n",
       "Bacchanal Buffet                       823\n",
       "Pizza Hut                              814\n",
       "El Pollo Loco                          775\n",
       "Denny's                                694\n",
       "IHOP                                   666\n",
       "KFC                                    654\n",
       "Wicked Spoon                           642\n",
       "Gordon Ramsay Hell's Kitchen           612\n",
       "Applebee's Grill + Bar                 606\n",
       "Pizzaiolo                              602\n",
       "First Watch                            569\n",
       "Pita Jungle                            511\n",
       "Chick-fil-A                            486\n",
       "Eggsmart                               478\n",
       "Yardbird Southern Table & Bar          421\n",
       "Sonic Drive-In                         421\n",
       "Name: name, dtype: int64"
      ]
     },
     "execution_count": 38,
     "metadata": {},
     "output_type": "execute_result"
    }
   ],
   "source": [
    "df_sort_review_ctn.name.value_counts()[:20]"
   ]
  },
  {
   "cell_type": "code",
   "execution_count": 39,
   "metadata": {},
   "outputs": [
    {
     "data": {
      "text/plain": [
       "2.0"
      ]
     },
     "execution_count": 39,
     "metadata": {},
     "output_type": "execute_result"
    }
   ],
   "source": [
    "df.stars.loc[df.name==\"McDonald's\"].median()"
   ]
  },
  {
   "cell_type": "code",
   "execution_count": 40,
   "metadata": {},
   "outputs": [
    {
     "data": {
      "text/plain": [
       "2.5"
      ]
     },
     "execution_count": 40,
     "metadata": {},
     "output_type": "execute_result"
    }
   ],
   "source": [
    "df.stars.loc[df.name==\"Filiberto's Mexican Food\"].median()"
   ]
  },
  {
   "cell_type": "code",
   "execution_count": 41,
   "metadata": {},
   "outputs": [
    {
     "data": {
      "text/plain": [
       "3.0"
      ]
     },
     "execution_count": 41,
     "metadata": {},
     "output_type": "execute_result"
    }
   ],
   "source": [
    "df.stars.loc[df.name==\"Chipotle Mexican Grill\"].median()"
   ]
  },
  {
   "cell_type": "code",
   "execution_count": 42,
   "metadata": {},
   "outputs": [
    {
     "data": {
      "text/plain": [
       "food       6234\n",
       "drink       580\n",
       "inside       78\n",
       "outside      53\n",
       "menu          3\n",
       "Name: label, dtype: int64"
      ]
     },
     "execution_count": 42,
     "metadata": {},
     "output_type": "execute_result"
    }
   ],
   "source": [
    "df.loc[df.name==\"McDonald's\"].label.value_counts()"
   ]
  },
  {
   "cell_type": "code",
   "execution_count": 43,
   "metadata": {},
   "outputs": [
    {
     "data": {
      "text/html": [
       "<div>\n",
       "<style scoped>\n",
       "    .dataframe tbody tr th:only-of-type {\n",
       "        vertical-align: middle;\n",
       "    }\n",
       "\n",
       "    .dataframe tbody tr th {\n",
       "        vertical-align: top;\n",
       "    }\n",
       "\n",
       "    .dataframe thead th {\n",
       "        text-align: right;\n",
       "    }\n",
       "</style>\n",
       "<table border=\"1\" class=\"dataframe\">\n",
       "  <thead>\n",
       "    <tr style=\"text-align: right;\">\n",
       "      <th></th>\n",
       "      <th>photo_id</th>\n",
       "      <th>buz_id</th>\n",
       "      <th>caption</th>\n",
       "      <th>label</th>\n",
       "      <th>name</th>\n",
       "      <th>review_count</th>\n",
       "      <th>stars</th>\n",
       "      <th>state</th>\n",
       "    </tr>\n",
       "  </thead>\n",
       "  <tbody>\n",
       "    <tr>\n",
       "      <td>0</td>\n",
       "      <td>MllA1nNpcp1kDteVg6OGUw</td>\n",
       "      <td>rcaPajgKOJC2vo_l3xa42A</td>\n",
       "      <td></td>\n",
       "      <td>inside</td>\n",
       "      <td>Bouchon</td>\n",
       "      <td>3859</td>\n",
       "      <td>4.0</td>\n",
       "      <td>NV</td>\n",
       "    </tr>\n",
       "  </tbody>\n",
       "</table>\n",
       "</div>"
      ],
      "text/plain": [
       "                 photo_id                  buz_id caption   label     name  \\\n",
       "0  MllA1nNpcp1kDteVg6OGUw  rcaPajgKOJC2vo_l3xa42A          inside  Bouchon   \n",
       "\n",
       "   review_count  stars state  \n",
       "0          3859    4.0    NV  "
      ]
     },
     "execution_count": 43,
     "metadata": {},
     "output_type": "execute_result"
    }
   ],
   "source": [
    "df.head(1)"
   ]
  },
  {
   "cell_type": "code",
   "execution_count": 44,
   "metadata": {},
   "outputs": [],
   "source": [
    "df['photo_path'] = '/home/david/Downloads/photos/'+ df.photo_id + '.jpg'"
   ]
  },
  {
   "cell_type": "code",
   "execution_count": 45,
   "metadata": {},
   "outputs": [
    {
     "data": {
      "text/html": [
       "<div>\n",
       "<style scoped>\n",
       "    .dataframe tbody tr th:only-of-type {\n",
       "        vertical-align: middle;\n",
       "    }\n",
       "\n",
       "    .dataframe tbody tr th {\n",
       "        vertical-align: top;\n",
       "    }\n",
       "\n",
       "    .dataframe thead th {\n",
       "        text-align: right;\n",
       "    }\n",
       "</style>\n",
       "<table border=\"1\" class=\"dataframe\">\n",
       "  <thead>\n",
       "    <tr style=\"text-align: right;\">\n",
       "      <th></th>\n",
       "      <th>photo_id</th>\n",
       "      <th>buz_id</th>\n",
       "      <th>caption</th>\n",
       "      <th>label</th>\n",
       "      <th>name</th>\n",
       "      <th>review_count</th>\n",
       "      <th>stars</th>\n",
       "      <th>state</th>\n",
       "      <th>photo_path</th>\n",
       "    </tr>\n",
       "  </thead>\n",
       "  <tbody>\n",
       "    <tr>\n",
       "      <td>0</td>\n",
       "      <td>MllA1nNpcp1kDteVg6OGUw</td>\n",
       "      <td>rcaPajgKOJC2vo_l3xa42A</td>\n",
       "      <td></td>\n",
       "      <td>inside</td>\n",
       "      <td>Bouchon</td>\n",
       "      <td>3859</td>\n",
       "      <td>4.0</td>\n",
       "      <td>NV</td>\n",
       "      <td>/home/david/Downloads/photos/MllA1nNpcp1kDteVg...</td>\n",
       "    </tr>\n",
       "  </tbody>\n",
       "</table>\n",
       "</div>"
      ],
      "text/plain": [
       "                 photo_id                  buz_id caption   label     name  \\\n",
       "0  MllA1nNpcp1kDteVg6OGUw  rcaPajgKOJC2vo_l3xa42A          inside  Bouchon   \n",
       "\n",
       "   review_count  stars state  \\\n",
       "0          3859    4.0    NV   \n",
       "\n",
       "                                          photo_path  \n",
       "0  /home/david/Downloads/photos/MllA1nNpcp1kDteVg...  "
      ]
     },
     "execution_count": 45,
     "metadata": {},
     "output_type": "execute_result"
    }
   ],
   "source": [
    "df.head(1)"
   ]
  },
  {
   "cell_type": "code",
   "execution_count": 94,
   "metadata": {},
   "outputs": [],
   "source": [
    "df['stars_str'] = df.stars.astype('int')"
   ]
  },
  {
   "cell_type": "code",
   "execution_count": 99,
   "metadata": {
    "scrolled": true
   },
   "outputs": [],
   "source": [
    "df['stars_str'] = df.stars.astype('str')"
   ]
  },
  {
   "cell_type": "code",
   "execution_count": 100,
   "metadata": {},
   "outputs": [
    {
     "data": {
      "text/plain": [
       "'4.0'"
      ]
     },
     "execution_count": 100,
     "metadata": {},
     "output_type": "execute_result"
    }
   ],
   "source": [
    "df['stars_str'].iloc[0]"
   ]
  },
  {
   "cell_type": "code",
   "execution_count": 46,
   "metadata": {},
   "outputs": [
    {
     "data": {
      "text/plain": [
       "food       114874\n",
       "inside      52448\n",
       "drink       18121\n",
       "outside     11534\n",
       "menu         3023\n",
       "Name: label, dtype: int64"
      ]
     },
     "execution_count": 46,
     "metadata": {},
     "output_type": "execute_result"
    }
   ],
   "source": [
    "df.label.value_counts()"
   ]
  },
  {
   "cell_type": "code",
   "execution_count": 47,
   "metadata": {},
   "outputs": [],
   "source": [
    "df_short_balanced = df.groupby('label').apply(lambda x: x.sample(n=3023)).reset_index(drop=True)"
   ]
  },
  {
   "cell_type": "code",
   "execution_count": 48,
   "metadata": {},
   "outputs": [],
   "source": [
    "X = [load_img(df_short_balanced.photo_path.iloc[x]\n",
    "                      , grayscale=True\n",
    "                      , target_size=(128,128)) for x in range(len(df_short_balanced))]"
   ]
  },
  {
   "cell_type": "code",
   "execution_count": 49,
   "metadata": {},
   "outputs": [],
   "source": [
    "photo_arr = []\n",
    "for i in range(len(df_short_balanced)):\n",
    "    photo_arr.append(img_to_array(X[i]).flatten())"
   ]
  },
  {
   "cell_type": "code",
   "execution_count": 50,
   "metadata": {},
   "outputs": [
    {
     "data": {
      "text/plain": [
       "array([10.,  6.,  6., ..., 45., 51., 59.], dtype=float32)"
      ]
     },
     "execution_count": 50,
     "metadata": {},
     "output_type": "execute_result"
    }
   ],
   "source": [
    "photo_arr[0]"
   ]
  },
  {
   "cell_type": "code",
   "execution_count": 51,
   "metadata": {},
   "outputs": [],
   "source": [
    "from sklearn.model_selection import train_test_split\n",
    "X_train, X_test, y_train, y_test = train_test_split(photo_arr\n",
    "                                                    , df_short_balanced.stars.astype('int')\n",
    "                                                    , stratify=df_short_balanced.stars\n",
    "                                                    , random_state=42)"
   ]
  },
  {
   "cell_type": "code",
   "execution_count": 52,
   "metadata": {},
   "outputs": [
    {
     "data": {
      "text/plain": [
       "array([4, 3, 5, 2, 1])"
      ]
     },
     "execution_count": 52,
     "metadata": {},
     "output_type": "execute_result"
    }
   ],
   "source": [
    "y_train.unique()"
   ]
  },
  {
   "cell_type": "markdown",
   "metadata": {},
   "source": [
    "# SGD Modeling"
   ]
  },
  {
   "cell_type": "code",
   "execution_count": 53,
   "metadata": {},
   "outputs": [],
   "source": [
    "sgd_clf = SGDClassifier(random_state=42\n",
    "                        , max_iter=1000\n",
    "                        , tol=1e-3)"
   ]
  },
  {
   "cell_type": "code",
   "execution_count": 54,
   "metadata": {},
   "outputs": [
    {
     "data": {
      "text/plain": [
       "SGDClassifier(alpha=0.0001, average=False, class_weight=None,\n",
       "              early_stopping=False, epsilon=0.1, eta0=0.0, fit_intercept=True,\n",
       "              l1_ratio=0.15, learning_rate='optimal', loss='hinge',\n",
       "              max_iter=1000, n_iter_no_change=5, n_jobs=None, penalty='l2',\n",
       "              power_t=0.5, random_state=42, shuffle=True, tol=0.001,\n",
       "              validation_fraction=0.1, verbose=0, warm_start=False)"
      ]
     },
     "execution_count": 54,
     "metadata": {},
     "output_type": "execute_result"
    }
   ],
   "source": [
    "sgd_clf.fit(X_train, y_train)"
   ]
  },
  {
   "cell_type": "code",
   "execution_count": 55,
   "metadata": {},
   "outputs": [],
   "source": [
    "y_pred = sgd_clf.predict(X_test)"
   ]
  },
  {
   "cell_type": "code",
   "execution_count": 56,
   "metadata": {},
   "outputs": [
    {
     "data": {
      "text/plain": [
       "0.4789626885419423"
      ]
     },
     "execution_count": 56,
     "metadata": {},
     "output_type": "execute_result"
    }
   ],
   "source": [
    "sgd_clf.score(X_test, y_test)"
   ]
  },
  {
   "cell_type": "code",
   "execution_count": 57,
   "metadata": {},
   "outputs": [],
   "source": [
    "# cross_val_score(sgd_clf, photo_arr, df_short_balanced.stars.astype('int'), cv=5)"
   ]
  },
  {
   "cell_type": "code",
   "execution_count": 58,
   "metadata": {},
   "outputs": [],
   "source": [
    "sdg_cv_5_scores = np.array([0.46347107, 0.45469577, 0.4164737 , 0.45268034, 0.4184045 ])"
   ]
  },
  {
   "cell_type": "code",
   "execution_count": 59,
   "metadata": {},
   "outputs": [
    {
     "data": {
      "text/plain": [
       "0.441145076"
      ]
     },
     "execution_count": 59,
     "metadata": {},
     "output_type": "execute_result"
    }
   ],
   "source": [
    "sdg_cv_5_scores.mean()"
   ]
  },
  {
   "cell_type": "code",
   "execution_count": 60,
   "metadata": {},
   "outputs": [],
   "source": [
    "sdg_cv_10_scores = np.array([0.45376486, 0.47886394, 0.35449735, 0.3994709 , 0.40410053,\n",
    "       0.46296296, 0.49072848, 0.46092715, 0.41258278, 0.42213386])"
   ]
  },
  {
   "cell_type": "code",
   "execution_count": 64,
   "metadata": {},
   "outputs": [
    {
     "data": {
      "text/plain": [
       "0.434003281"
      ]
     },
     "execution_count": 64,
     "metadata": {},
     "output_type": "execute_result"
    }
   ],
   "source": [
    "sdg_cv_10_scores.mean()"
   ]
  },
  {
   "cell_type": "code",
   "execution_count": 78,
   "metadata": {},
   "outputs": [
    {
     "data": {
      "text/plain": [
       "(16384,)"
      ]
     },
     "execution_count": 78,
     "metadata": {},
     "output_type": "execute_result"
    }
   ],
   "source": [
    "photo_arr[0].shape"
   ]
  },
  {
   "cell_type": "code",
   "execution_count": 65,
   "metadata": {},
   "outputs": [],
   "source": [
    "import numpy as np \n",
    "import pandas as pd\n",
    "import matplotlib.pyplot as plt \n",
    "import keras \n",
    "\n",
    "from sklearn.model_selection import train_test_split \n",
    "from keras.utils import to_categorical \n",
    "\n",
    "from keras.models import Sequential \n",
    "from keras.layers import Conv2D, MaxPooling2D \n",
    "from keras.layers import Dense, Dropout \n",
    "from keras.layers import Flatten, BatchNormalization"
   ]
  },
  {
   "cell_type": "code",
   "execution_count": 69,
   "metadata": {},
   "outputs": [],
   "source": [
    "from keras.applications.inception_v3 import InceptionV3\n"
   ]
  },
  {
   "cell_type": "code",
   "execution_count": 79,
   "metadata": {},
   "outputs": [],
   "source": [
    "from keras.preprocessing.image import ImageDataGenerator, array_to_img, img_to_array, load_img\n",
    "\n",
    "datagen = ImageDataGenerator(\n",
    "        rotation_range=40,\n",
    "        width_shift_range=0.2,\n",
    "        height_shift_range=0.2,\n",
    "        shear_range=0.2,\n",
    "        zoom_range=0.2,\n",
    "        horizontal_flip=True,\n",
    "        fill_mode='nearest')"
   ]
  },
  {
   "cell_type": "code",
   "execution_count": 106,
   "metadata": {},
   "outputs": [],
   "source": [
    "# MODEL\n",
    "from keras.models import Sequential\n",
    "from keras.layers import Conv2D, MaxPooling2D\n",
    "from keras.layers import Activation, Dropout, Flatten, Dense\n",
    "\n",
    "model = Sequential()\n",
    "model.add(Conv2D(32, (3, 3), input_shape=(255, 255, 3)))\n",
    "model.add(Activation('relu'))\n",
    "model.add(MaxPooling2D(pool_size=(2, 2)))\n",
    "\n",
    "model.add(Conv2D(32, (3, 3)))\n",
    "model.add(Activation('relu'))\n",
    "model.add(MaxPooling2D(pool_size=(2, 2)))\n",
    "\n",
    "model.add(Conv2D(64, (3, 3)))\n",
    "model.add(Activation('relu'))\n",
    "model.add(MaxPooling2D(pool_size=(2, 2)))\n",
    "\n",
    "# the model so far outputs 3D feature maps (height, width, features)\n",
    "\n",
    "model.add(Flatten())  # this converts our 3D feature maps to 1D feature vectors\n",
    "model.add(Dense(64))\n",
    "model.add(Activation('relu'))\n",
    "model.add(Dropout(0.5))\n",
    "model.add(Dense(9))\n",
    "model.add(Activation('sigmoid'))\n",
    "# COMPILE\n",
    "model.compile(loss='binary_crossentropy',\n",
    "              optimizer='rmsprop',\n",
    "              metrics=['accuracy'])"
   ]
  },
  {
   "cell_type": "code",
   "execution_count": 85,
   "metadata": {},
   "outputs": [
    {
     "data": {
      "text/html": [
       "<div>\n",
       "<style scoped>\n",
       "    .dataframe tbody tr th:only-of-type {\n",
       "        vertical-align: middle;\n",
       "    }\n",
       "\n",
       "    .dataframe tbody tr th {\n",
       "        vertical-align: top;\n",
       "    }\n",
       "\n",
       "    .dataframe thead th {\n",
       "        text-align: right;\n",
       "    }\n",
       "</style>\n",
       "<table border=\"1\" class=\"dataframe\">\n",
       "  <thead>\n",
       "    <tr style=\"text-align: right;\">\n",
       "      <th></th>\n",
       "      <th>photo_id</th>\n",
       "      <th>buz_id</th>\n",
       "      <th>caption</th>\n",
       "      <th>label</th>\n",
       "      <th>name</th>\n",
       "      <th>review_count</th>\n",
       "      <th>stars</th>\n",
       "      <th>state</th>\n",
       "      <th>photo_path</th>\n",
       "    </tr>\n",
       "  </thead>\n",
       "  <tbody>\n",
       "    <tr>\n",
       "      <td>0</td>\n",
       "      <td>MllA1nNpcp1kDteVg6OGUw</td>\n",
       "      <td>rcaPajgKOJC2vo_l3xa42A</td>\n",
       "      <td></td>\n",
       "      <td>inside</td>\n",
       "      <td>Bouchon</td>\n",
       "      <td>3859</td>\n",
       "      <td>4.0</td>\n",
       "      <td>NV</td>\n",
       "      <td>/home/david/Downloads/photos/MllA1nNpcp1kDteVg...</td>\n",
       "    </tr>\n",
       "  </tbody>\n",
       "</table>\n",
       "</div>"
      ],
      "text/plain": [
       "                 photo_id                  buz_id caption   label     name  \\\n",
       "0  MllA1nNpcp1kDteVg6OGUw  rcaPajgKOJC2vo_l3xa42A          inside  Bouchon   \n",
       "\n",
       "   review_count  stars state  \\\n",
       "0          3859    4.0    NV   \n",
       "\n",
       "                                          photo_path  \n",
       "0  /home/david/Downloads/photos/MllA1nNpcp1kDteVg...  "
      ]
     },
     "execution_count": 85,
     "metadata": {},
     "output_type": "execute_result"
    }
   ],
   "source": [
    "df.head(1)"
   ]
  },
  {
   "cell_type": "code",
   "execution_count": null,
   "metadata": {},
   "outputs": [],
   "source": [
    "flow_from_dataframe(dataframe\n",
    "                    , directory=None\n",
    "                    , x_col='filename'\n",
    "                    , y_col='class'\n",
    "                    , weight_col=None\n",
    "                    , target_size=(256, 256)\n",
    "                    , color_mode='rgb'\n",
    "                    , classes=None\n",
    "                    , class_mode='categorical'\n",
    "                    , batch_size=32\n",
    "                    , shuffle=True\n",
    "                    , seed=None\n",
    "                    , save_to_dir=None\n",
    "                    , save_prefix=''\n",
    "                    , save_format='png'\n",
    "                    , subset=None\n",
    "                    , interpolation='nearest'\n",
    "                    , validate_filenames=True)"
   ]
  },
  {
   "cell_type": "code",
   "execution_count": 102,
   "metadata": {},
   "outputs": [
    {
     "name": "stdout",
     "output_type": "stream",
     "text": [
      "Found 200000 validated image filenames belonging to 9 classes.\n",
      "Found 200000 validated image filenames belonging to 9 classes.\n"
     ]
    }
   ],
   "source": [
    "batch_size = 16\n",
    "\n",
    "# this is the augmentation configuration we will use for training\n",
    "train_datagen = ImageDataGenerator(\n",
    "        rescale=1./255,\n",
    "        shear_range=0.2,\n",
    "        zoom_range=0.2,\n",
    "        horizontal_flip=True)\n",
    "\n",
    "# this is the augmentation configuration we will use for testing:\n",
    "# only rescaling\n",
    "test_datagen = ImageDataGenerator(rescale=1./255)\n",
    "\n",
    "# this is a generator that will read pictures found in subfolers of 'data/train', and indefinitely generate\n",
    "# batches of augmented image data\n",
    "train_generator = train_datagen.flow_from_dataframe(df\n",
    "                                                    , x_col='photo_path'  # this is the target directory\n",
    "                                                    , y_col='stars_str'\n",
    "                                                    , target_size=(255, 255)  # all images will be resized to 300x300\n",
    "                                                    , batch_size=batch_size\n",
    "                                                    , class_mode='categorical')  # since we use binary_crossentropy loss, we need binary labels\n",
    "\n",
    "# this is a similar generator, for validation data\n",
    "validation_generator = test_datagen.flow_from_dataframe(df\n",
    "                                                        , x_col='photo_path'\n",
    "                                                        , y_col='stars_str'\n",
    "                                                        , target_size=(255, 255)\n",
    "                                                        , batch_size=batch_size\n",
    "                                                        , class_mode='categorical')"
   ]
  },
  {
   "cell_type": "code",
   "execution_count": 113,
   "metadata": {},
   "outputs": [
    {
     "name": "stdout",
     "output_type": "stream",
     "text": [
      "Epoch 1/50\n",
      "25/25 [==============================] - 32s 1s/step - loss: 0.3084 - accuracy: 0.8872 - val_loss: 0.3386 - val_accuracy: 0.8889\n",
      "Epoch 2/50\n",
      "25/25 [==============================] - 31s 1s/step - loss: 0.2977 - accuracy: 0.8892 - val_loss: 0.2707 - val_accuracy: 0.8889\n",
      "Epoch 3/50\n",
      "25/25 [==============================] - 29s 1s/step - loss: 0.3042 - accuracy: 0.8875 - val_loss: 0.3152 - val_accuracy: 0.8889\n",
      "Epoch 4/50\n",
      "25/25 [==============================] - 28s 1s/step - loss: 0.3009 - accuracy: 0.8872 - val_loss: 0.3037 - val_accuracy: 0.8889\n",
      "Epoch 5/50\n",
      "25/25 [==============================] - 27s 1s/step - loss: 0.2842 - accuracy: 0.8889 - val_loss: 0.2662 - val_accuracy: 0.8889\n",
      "Epoch 6/50\n",
      "25/25 [==============================] - 28s 1s/step - loss: 0.2963 - accuracy: 0.8889 - val_loss: 0.2357 - val_accuracy: 0.8896\n",
      "Epoch 7/50\n",
      "25/25 [==============================] - 28s 1s/step - loss: 0.2956 - accuracy: 0.8883 - val_loss: 0.2877 - val_accuracy: 0.8889\n",
      "Epoch 8/50\n",
      "25/25 [==============================] - 28s 1s/step - loss: 0.2965 - accuracy: 0.8892 - val_loss: 0.2837 - val_accuracy: 0.8889\n",
      "Epoch 9/50\n",
      "25/25 [==============================] - 27s 1s/step - loss: 0.2933 - accuracy: 0.8889 - val_loss: 0.2917 - val_accuracy: 0.8889\n",
      "Epoch 10/50\n",
      "25/25 [==============================] - 27s 1s/step - loss: 0.3036 - accuracy: 0.8894 - val_loss: 0.2658 - val_accuracy: 0.8889\n",
      "Epoch 11/50\n",
      "25/25 [==============================] - 27s 1s/step - loss: 0.2934 - accuracy: 0.8894 - val_loss: 0.2680 - val_accuracy: 0.8889\n",
      "Epoch 12/50\n",
      "25/25 [==============================] - 28s 1s/step - loss: 0.2872 - accuracy: 0.8894 - val_loss: 0.3089 - val_accuracy: 0.8889\n",
      "Epoch 13/50\n",
      "25/25 [==============================] - 28s 1s/step - loss: 0.2886 - accuracy: 0.8883 - val_loss: 0.2782 - val_accuracy: 0.8889\n",
      "Epoch 14/50\n",
      "25/25 [==============================] - 27s 1s/step - loss: 0.2902 - accuracy: 0.8883 - val_loss: 0.3028 - val_accuracy: 0.8889\n",
      "Epoch 15/50\n",
      "25/25 [==============================] - 28s 1s/step - loss: 0.3000 - accuracy: 0.8886 - val_loss: 0.3048 - val_accuracy: 0.8889\n",
      "Epoch 16/50\n",
      "25/25 [==============================] - 27s 1s/step - loss: 0.2997 - accuracy: 0.8883 - val_loss: 0.2928 - val_accuracy: 0.8889\n",
      "Epoch 17/50\n",
      "25/25 [==============================] - 27s 1s/step - loss: 0.2979 - accuracy: 0.8886 - val_loss: 0.2531 - val_accuracy: 0.8889\n",
      "Epoch 18/50\n",
      "25/25 [==============================] - 27s 1s/step - loss: 0.3027 - accuracy: 0.8889 - val_loss: 0.2722 - val_accuracy: 0.8889\n",
      "Epoch 19/50\n",
      "25/25 [==============================] - 26s 1s/step - loss: 0.2904 - accuracy: 0.8889 - val_loss: 0.2275 - val_accuracy: 0.8889\n",
      "Epoch 20/50\n",
      "25/25 [==============================] - 22s 880ms/step - loss: 0.3045 - accuracy: 0.8889 - val_loss: 0.2899 - val_accuracy: 0.8889\n",
      "Epoch 21/50\n",
      "25/25 [==============================] - 22s 882ms/step - loss: 0.2944 - accuracy: 0.8889 - val_loss: 0.3331 - val_accuracy: 0.8889\n",
      "Epoch 22/50\n",
      "25/25 [==============================] - 22s 880ms/step - loss: 0.2953 - accuracy: 0.8889 - val_loss: 0.2407 - val_accuracy: 0.8889\n",
      "Epoch 23/50\n",
      "25/25 [==============================] - 22s 876ms/step - loss: 0.2911 - accuracy: 0.8889 - val_loss: 0.2792 - val_accuracy: 0.8889\n",
      "Epoch 24/50\n",
      "25/25 [==============================] - 22s 879ms/step - loss: 0.2919 - accuracy: 0.8889 - val_loss: 0.3095 - val_accuracy: 0.8889\n",
      "Epoch 25/50\n",
      "25/25 [==============================] - 22s 878ms/step - loss: 0.2962 - accuracy: 0.8889 - val_loss: 0.2585 - val_accuracy: 0.8889\n",
      "Epoch 26/50\n",
      "25/25 [==============================] - 22s 876ms/step - loss: 0.2963 - accuracy: 0.8889 - val_loss: 0.2653 - val_accuracy: 0.8889\n",
      "Epoch 27/50\n",
      "25/25 [==============================] - 22s 884ms/step - loss: 0.2898 - accuracy: 0.8889 - val_loss: 0.2837 - val_accuracy: 0.8889\n",
      "Epoch 28/50\n",
      "25/25 [==============================] - 22s 877ms/step - loss: 0.3028 - accuracy: 0.8889 - val_loss: 0.2702 - val_accuracy: 0.8889\n",
      "Epoch 29/50\n",
      "25/25 [==============================] - 22s 875ms/step - loss: 0.2981 - accuracy: 0.8889 - val_loss: 0.2791 - val_accuracy: 0.8889\n",
      "Epoch 30/50\n",
      "25/25 [==============================] - 22s 880ms/step - loss: 0.2928 - accuracy: 0.8889 - val_loss: 0.2850 - val_accuracy: 0.8889\n",
      "Epoch 31/50\n",
      "25/25 [==============================] - 22s 876ms/step - loss: 0.2896 - accuracy: 0.8889 - val_loss: 0.2951 - val_accuracy: 0.8889\n",
      "Epoch 32/50\n",
      "25/25 [==============================] - 22s 881ms/step - loss: 0.2954 - accuracy: 0.8889 - val_loss: 0.3729 - val_accuracy: 0.8889\n",
      "Epoch 33/50\n",
      "25/25 [==============================] - 22s 885ms/step - loss: 0.3067 - accuracy: 0.8889 - val_loss: 0.2717 - val_accuracy: 0.8889\n",
      "Epoch 34/50\n",
      "25/25 [==============================] - 22s 882ms/step - loss: 0.2818 - accuracy: 0.8889 - val_loss: 0.2938 - val_accuracy: 0.8889\n",
      "Epoch 35/50\n",
      "25/25 [==============================] - 22s 886ms/step - loss: 0.2899 - accuracy: 0.8889 - val_loss: 0.2699 - val_accuracy: 0.8889\n",
      "Epoch 36/50\n",
      "25/25 [==============================] - 22s 881ms/step - loss: 0.2847 - accuracy: 0.8889 - val_loss: 0.2551 - val_accuracy: 0.8889\n",
      "Epoch 37/50\n",
      "25/25 [==============================] - 22s 878ms/step - loss: 0.2957 - accuracy: 0.8889 - val_loss: 0.3403 - val_accuracy: 0.8889\n",
      "Epoch 38/50\n",
      "25/25 [==============================] - 22s 883ms/step - loss: 0.2946 - accuracy: 0.8889 - val_loss: 0.2523 - val_accuracy: 0.8889\n",
      "Epoch 39/50\n",
      "25/25 [==============================] - 22s 881ms/step - loss: 0.2853 - accuracy: 0.8889 - val_loss: 0.2750 - val_accuracy: 0.8889\n",
      "Epoch 40/50\n",
      "25/25 [==============================] - 22s 881ms/step - loss: 0.2874 - accuracy: 0.8886 - val_loss: 0.2952 - val_accuracy: 0.8889\n",
      "Epoch 41/50\n",
      "25/25 [==============================] - 22s 877ms/step - loss: 0.2918 - accuracy: 0.8889 - val_loss: 0.3466 - val_accuracy: 0.8889\n",
      "Epoch 42/50\n",
      "25/25 [==============================] - 22s 879ms/step - loss: 0.2946 - accuracy: 0.8889 - val_loss: 0.3080 - val_accuracy: 0.8889\n",
      "Epoch 43/50\n",
      "25/25 [==============================] - 22s 877ms/step - loss: 0.2899 - accuracy: 0.8889 - val_loss: 0.2678 - val_accuracy: 0.8889\n",
      "Epoch 44/50\n",
      "25/25 [==============================] - 22s 883ms/step - loss: 0.2874 - accuracy: 0.8889 - val_loss: 0.3015 - val_accuracy: 0.8889\n",
      "Epoch 45/50\n",
      "25/25 [==============================] - 22s 875ms/step - loss: 0.2909 - accuracy: 0.8889 - val_loss: 0.2839 - val_accuracy: 0.8889\n",
      "Epoch 46/50\n",
      "25/25 [==============================] - 23s 915ms/step - loss: 0.2771 - accuracy: 0.8889 - val_loss: 0.2535 - val_accuracy: 0.8889\n",
      "Epoch 47/50\n",
      "25/25 [==============================] - 25s 1s/step - loss: 0.2899 - accuracy: 0.8889 - val_loss: 0.3022 - val_accuracy: 0.8889\n",
      "Epoch 48/50\n",
      "25/25 [==============================] - 23s 924ms/step - loss: 0.2880 - accuracy: 0.8889 - val_loss: 0.2714 - val_accuracy: 0.8889\n",
      "Epoch 49/50\n",
      "25/25 [==============================] - 25s 1s/step - loss: 0.2982 - accuracy: 0.8889 - val_loss: 0.2974 - val_accuracy: 0.8889\n",
      "Epoch 50/50\n",
      "25/25 [==============================] - 25s 983ms/step - loss: 0.2857 - accuracy: 0.8889 - val_loss: 0.2931 - val_accuracy: 0.8889\n"
     ]
    }
   ],
   "source": [
    "# TRAINING\n",
    "results = model.fit_generator(train_generator\n",
    "                              , steps_per_epoch=400 // batch_size\n",
    "                              , epochs=50\n",
    "                              , validation_data=validation_generator\n",
    "                              , validation_steps=160 // batch_size)\n",
    "\n",
    "model.save_weights('50_epochs.h5')  # always save your weights after training or during training"
   ]
  },
  {
   "cell_type": "code",
   "execution_count": 142,
   "metadata": {
    "scrolled": true
   },
   "outputs": [
    {
     "data": {
      "text/plain": [
       "''"
      ]
     },
     "execution_count": 142,
     "metadata": {},
     "output_type": "execute_result"
    },
    {
     "data": {
      "image/png": "[encoded data removed]",
      "text/plain": [
       "<Figure size 432x288 with 1 Axes>"
      ]
     },
     "metadata": {
      "needs_background": "light"
     },
     "output_type": "display_data"
    }
   ],
   "source": [
    "plt.plot(results.history['accuracy'])\n",
    "plt.plot(results.history['val_accuracy'])\n",
    ";"
   ]
  },
  {
   "cell_type": "code",
   "execution_count": 143,
   "metadata": {},
   "outputs": [
    {
     "data": {
      "image/png": "[encoded data removed]",
      "text/plain": [
       "<Figure size 432x288 with 1 Axes>"
      ]
     },
     "metadata": {
      "needs_background": "light"
     },
     "output_type": "display_data"
    }
   ],
   "source": [
    "plt.plot(results.history['loss'])\n",
    "plt.plot(results.history['val_loss']);"
   ]
  },
  {
   "cell_type": "code",
   "execution_count": 115,
   "metadata": {},
   "outputs": [
    {
     "data": {
      "text/plain": [
       "{'1.0': 0,\n",
       " '1.5': 1,\n",
       " '2.0': 2,\n",
       " '2.5': 3,\n",
       " '3.0': 4,\n",
       " '3.5': 5,\n",
       " '4.0': 6,\n",
       " '4.5': 7,\n",
       " '5.0': 8}"
      ]
     },
     "execution_count": 115,
     "metadata": {},
     "output_type": "execute_result"
    }
   ],
   "source": [
    "train_generator.class_indices"
   ]
  },
  {
   "cell_type": "code",
   "execution_count": 118,
   "metadata": {},
   "outputs": [
    {
     "data": {
      "image/png": "[encoded data removed]",
      "text/plain": [
       "<Figure size 432x288 with 1 Axes>"
      ]
     },
     "metadata": {
      "needs_background": "light"
     },
     "output_type": "display_data"
    }
   ],
   "source": [
    "plt.imshow(X[0])\n",
    "plt.title(df.stars_str.iloc[0]);"
   ]
  },
  {
   "cell_type": "code",
   "execution_count": 120,
   "metadata": {},
   "outputs": [],
   "source": [
    "import numpy as np\n",
    "from keras.preprocessing import image"
   ]
  },
  {
   "cell_type": "code",
   "execution_count": null,
   "metadata": {},
   "outputs": [],
   "source": []
  },
  {
   "cell_type": "code",
   "execution_count": 131,
   "metadata": {},
   "outputs": [],
   "source": [
    "file_1 = df.photo_path.iloc[0]\n",
    "\n",
    "def pred_img(file=file_1):\n",
    "    predicted_img = image.load_img(file, target_size=(255, 255))\n",
    "    predicted_img = image.img_to_array(predicted_img)\n",
    "    predicted_img = np.expand_dims(predicted_img, axis=0)\n",
    "    predicted_img = predicted_img/255\n",
    "    prediction_prob = model.predict(predicted_img)\n",
    "    print(f'Class Predicted: {model.predict_classes(predicted_img)[0]}')\n",
    "    print(f'Probability that food image is of the selected one is: {prediction_prob[0][0]}')"
   ]
  },
  {
   "cell_type": "code",
   "execution_count": 134,
   "metadata": {},
   "outputs": [
    {
     "name": "stdout",
     "output_type": "stream",
     "text": [
      "Class Predicted: 4.0\n",
      "Probability: [2.13575971e-04 1.94453378e-03 8.78654793e-03 3.34859826e-02\n",
      " 1.18456475e-01 2.41366699e-01 3.51113111e-01 1.75320119e-01\n",
      " 4.70301509e-03]\n"
     ]
    }
   ],
   "source": [
    "predicted_img = image.load_img(file_1, target_size=(255, 255))\n",
    "predicted_img = image.img_to_array(predicted_img)\n",
    "predicted_img = np.expand_dims(predicted_img, axis=0)\n",
    "predicted_img = predicted_img/255\n",
    "prediction_prob = model.predict(predicted_img)\n",
    "print(f'Class Predicted: {model.predict_classes(predicted_img)[0] * 0.5 + 1}')\n",
    "print(f'Probability: {prediction_prob[0]}')"
   ]
  },
  {
   "cell_type": "code",
   "execution_count": null,
   "metadata": {},
   "outputs": [],
   "source": []
  }
 ],
 "metadata": {
  "kernelspec": {
   "display_name": "Python 3",
   "language": "python",
   "name": "python3"
  },
  "language_info": {
   "codemirror_mode": {
    "name": "ipython",
    "version": 3
   },
   "file_extension": ".py",
   "mimetype": "text/x-python",
   "name": "python",
   "nbconvert_exporter": "python",
   "pygments_lexer": "ipython3",
   "version": "3.7.4"
  }
 },
 "nbformat": 4,
 "nbformat_minor": 2
}
